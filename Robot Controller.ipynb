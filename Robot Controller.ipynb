{
 "cells": [
  {
   "cell_type": "markdown",
   "metadata": {},
   "source": [
    "## 控制迷宫寻宝机器人\n",
    "\n",
    "在这个项目中，你将使用刚刚学到的知识，尝试根据要求，编写代码，来控制一个机器人，在模拟环境中行走，并找到目标宝藏。\n",
    "\n",
    "机器人所在的模拟环境中，会包含这样几个因素：机器人的起点、障碍物、宝藏箱。你的任务包括：\n",
    "\n",
    "1. 分析模拟环境的数据\n",
    "2. 控制机器人随机行动\n",
    "3. （可选）控制机器人走到终点\n",
    "\n",
    "\n",
    "* 一个良好的含有注释的代码，可以让你的程序可读性更高，尝试为你自己的代码添加相应的注释。"
   ]
  },
  {
   "cell_type": "markdown",
   "metadata": {},
   "source": [
    "---\n",
    "\n",
    "---\n",
    "\n",
    "## 第一节 分析模拟环境的数据\n",
    "\n",
    "首先，只有足够了解机器人所在的环境，我们的机器人才能成功找到目标宝藏，因此首先我们来对机器人所在环境的数据进行分析。在这个部分，会考察你对数据结构、控制流的了解。\n"
   ]
  },
  {
   "cell_type": "markdown",
   "metadata": {},
   "source": [
    "### 1.1 理解模拟环境数据的储存格式\n",
    "\n",
    "首先我们思考这样的问题：如何存储模拟环境的数据呢？\n",
    "\n",
    "我们将我们的模拟环境抽象成一个格子世界，每个格子按照坐标编号进行标记；每个格子中会有四个情况，分别为普通格子（可通行）、机器人的起点（可通行）、障碍物（不可通行）、宝藏箱（目标点）。例如，一个模拟环境就可以抽象成3行4列的格子世界，并按这按这样的方法进行存储：\n",
    "```\n",
    "environment = [[0,0,0,2], \n",
    "               [1,2,0,0],\n",
    "               [0,2,3,2]]\n",
    "```\n",
    "我们用了一个列表来保存虚拟世界的数据。外层列表中的每一个元素依然是一个列表，它代表模拟环境中每行的数据。而对于这个列表中的每个元素都是一个数，它们的含义是：\n",
    "- 0: 普通格子（可通行）\n",
    "- 1: 机器人的起点（可通行）\n",
    "- 2: 障碍物（不可通行）\n",
    "- 3: 宝藏箱（目标点）\n",
    "\n",
    "那么，根据上述的数据，这个迷宫的第二行第一列，是我们机器人的起点。\n",
    "\n",
    "__注：我们描述的迷宫的坐标位置（第一行第一列），和迷宫下标索引的值（如 `(0,0)`）是不一样的，请注意下标的问题。__\n",
    "\n",
    "\n",
    "如下的代码，使用了辅助函数，读取了模拟环境的数据，并保存在了 `env_data` 变量中。\n"
   ]
  },
  {
   "cell_type": "code",
   "execution_count": 1,
   "metadata": {},
   "outputs": [
    {
     "name": "stdout",
     "output_type": "stream",
     "text": [
      "maze-id 1-1528987965\n",
      "[[0, 0, 0, 0, 0, 2, 3],\n",
      " [1, 2, 2, 2, 0, 2, 0],\n",
      " [2, 0, 0, 0, 0, 2, 0],\n",
      " [2, 2, 2, 2, 0, 0, 0]]\n"
     ]
    }
   ],
   "source": [
    "import random\n",
    "import helper\n",
    "\n",
    "env_data = helper.fetch_maze()"
   ]
  },
  {
   "cell_type": "markdown",
   "metadata": {},
   "source": [
    "---\n",
    "\n",
    "\n",
    "**任务1：**在如下代码中，请写代码获得这些值：\n",
    "\n",
    "1. 模拟环境的长和宽\n",
    "2. 模拟环境中第3行第6列元素"
   ]
  },
  {
   "cell_type": "code",
   "execution_count": 2,
   "metadata": {
    "scrolled": true
   },
   "outputs": [
    {
     "name": "stdout",
     "output_type": "stream",
     "text": [
      "迷宫共有 4 行 7 列，第三行第六列的元素是 2\n"
     ]
    }
   ],
   "source": [
    "# TODO 1\n",
    "# 模拟环境的行数\n",
    "rows = len(env_data)\n",
    "\n",
    "# TODO 2\n",
    "# 模拟环境的列数\n",
    "columns = len(env_data[0])\n",
    "\n",
    "# TODO 3\n",
    "# 取出模拟环境第三行第六列的元素\n",
    "row_3_col_6 = env_data[3-1][6-1]\n",
    "\n",
    "print(\"迷宫共有\", rows, \"行\", columns, \"列，第三行第六列的元素是\", row_3_col_6)"
   ]
  },
  {
   "cell_type": "markdown",
   "metadata": {
    "collapsed": true
   },
   "source": [
    "---\n",
    "\n",
    "## 1.2 分析模拟环境数据\n",
    "\n",
    "接着我们需要对模拟环境的中的数据进行分析。请根据如下的指示，计算相应的值。\n",
    "\n",
    "---\n",
    "\n",
    "**任务2：**在如下代码中，请计算模拟环境中，第一行和第三列的障碍物个数。\n",
    "\n",
    "提示：*可以用循环完成。*"
   ]
  },
  {
   "cell_type": "code",
   "execution_count": 3,
   "metadata": {},
   "outputs": [
    {
     "name": "stdout",
     "output_type": "stream",
     "text": [
      "迷宫中，第一行共有 1 个障碍物，第三列共有 2 个障碍物。\n"
     ]
    }
   ],
   "source": [
    "# TODO 4\n",
    "# 计算模拟环境中，第一行的障碍物个数\n",
    "\n",
    "# 第一行的障碍物个数\n",
    "number_of_barriers_row1 = 0\n",
    "\n",
    "# 建立一个变量以用来表示障碍物(数字类型 值为2)\n",
    "obstacle_int = 2\n",
    "\n",
    "# 遍历env_data[0],索引0表示遍历第一行里的所有元素\n",
    "for value in env_data[0]:\n",
    "    # 如果取出的值和obstacle_int(障碍物)相等，则将number_of_barriers_row1加1\n",
    "    if value == obstacle_int:\n",
    "        number_of_barriers_row1 += 1\n",
    "\n",
    "# TODO 5\n",
    "# 计算模拟环境中，第三列的的障碍物个数\n",
    "\n",
    "# 第三列的障碍物个数\n",
    "number_of_barriers_col3 = 0\n",
    "\n",
    "# 遍历env_data中的每一行,在每一行中对比第三列(索引值为2)元素的值\n",
    "for line in env_data:\n",
    "    # 如果取出的值和obstacle_int(表示障碍物)相等，则将number_of_barriers_col3(表示第三列的障碍物个数)加1\n",
    "    if line[2] == obstacle_int:\n",
    "        number_of_barriers_col3 += 1  \n",
    "\n",
    "print(\"迷宫中，第一行共有\", number_of_barriers_row1, \"个障碍物，第三列共有\", number_of_barriers_col3, \"个障碍物。\")"
   ]
  },
  {
   "cell_type": "markdown",
   "metadata": {},
   "source": [
    "---\n",
    "\n",
    "**任务3：**在如下代码中：\n",
    "\n",
    "1. 创建一个名为 `loc_map` 的字典，它有两个键值，分别为 `start` 和 `destination`，对应的值分别为起点和目标点的坐标，它们以如 `(1,1)` 的形式保存为元组。\n",
    "2. 从字典中取出 `start` 对应的值，保存在 `robot_current_loc` 对应的变量中，这个变量表示小车现在的位置。"
   ]
  },
  {
   "cell_type": "code",
   "execution_count": 4,
   "metadata": {},
   "outputs": [
    {
     "name": "stdout",
     "output_type": "stream",
     "text": [
      "机器人当前的位置在：(1, 0)\n"
     ]
    }
   ],
   "source": [
    "# TODO 6\n",
    "# 按照上述要求创建字典\n",
    "loc_map = dict()\n",
    "\n",
    "# 找出起点和目标点的坐标(将索引通通初始化为0)\n",
    "start_row = 0 # 表示起始点所在的行索引\n",
    "start_col = 0 # 表示起始点所在的列索引\n",
    "destination_row = 0 # 表示目标点所在的行索引\n",
    "destination_col = 0 # 表示目标点所在的列索引\n",
    "\n",
    "# 遍历环境数据(env_data)以找出起点点和目标点的坐标值\n",
    "row_index = 0 # 行索引(初始化为0)\n",
    "for line in env_data:\n",
    "    col_index = 0 # 列索引(初始化为0)  \n",
    "    for value in line:\n",
    "        if value == 1: # 表示找到了机器人的起点\n",
    "            start_row = row_index\n",
    "            start_col = col_index\n",
    "        elif value == 3: # 表示找到了宝藏箱（目标点）\n",
    "            destination_row = row_index\n",
    "            destination_col = col_index            \n",
    "        col_index += 1\n",
    "    row_index += 1\n",
    "    \n",
    "# 将起始点与目标点的值存入loc_map字典中\n",
    "loc_map['start'] = tuple((start_row, start_col))\n",
    "loc_map['destination'] = tuple((destination_row, destination_col))\n",
    "\n",
    "# TODO 7\n",
    "# 保存机器人当前的位置\n",
    "robot_current_loc = loc_map['start']\n",
    "# 保存目标点所在位置\n",
    "destination_loc = loc_map['destination']\n",
    "\n",
    "print(\"机器人当前的位置在：{}\".format(robot_current_loc))"
   ]
  },
  {
   "cell_type": "markdown",
   "metadata": {},
   "source": [
    "\n",
    "---\n",
    "\n",
    "---\n",
    "\n",
    "## 第二节 控制机器人随机漫步\n",
    "\n",
    "在这一步中，你需发出指令，控制机器人在环境中随机行动。它会考察你对控制流、调用函数的知识。"
   ]
  },
  {
   "cell_type": "markdown",
   "metadata": {},
   "source": [
    "\n",
    "\n",
    "## 2.1 控制机器人行动\n",
    "\n",
    "我们的机器人能够执行四个动作：向上走 `u`、向下走 `d`、向左走 `l`、向右走 `r`。但是，由于有障碍，很多时候机器人的行动并不能成功。所以在这里，你需要实现一个函数，来判断机器人在某个位置，执行某个移动动作是否可行。\n",
    "\n",
    "---\n",
    "\n",
    "**任务4：**在下方代码中，实现名为 `is_move_valid_special` 的函数，它有两个输入，分别为机器人所在的位置坐标 `loc`，以及即将执行的动作 `act`，如 `(1,1)` 及 `u`。接着它的返回是一个布尔值，表明小车在 `loc` 位置下，是否可以执行动作 `act`。\n",
    "\n",
    "\n",
    "提示1：*可以读取上方定义的 `env_data` 变量，来读取模拟环境的数据。*\n",
    "\n",
    "提示2：*在实现函数后，请删去下方的 `pass` 代码。*\n",
    "\n",
    "提示3：*我们需要处理边界的情况，即机器人走到了虚拟环境边界时，是不能够走出虚拟环境的。*"
   ]
  },
  {
   "cell_type": "code",
   "execution_count": 5,
   "metadata": {},
   "outputs": [
    {
     "name": "stdout",
     "output_type": "stream",
     "text": [
      "机器人在当前位置(1, 0)能否向上走：True\n",
      "机器人在当前位置(1, 0)能否向下走：False\n",
      "机器人在当前位置(1, 0)能否向左走：False\n",
      "机器人在当前位置(1, 0)能否向右走：False\n"
     ]
    }
   ],
   "source": [
    "# TODO 8\n",
    "# 实现名为 is_move_valid_special 的函数，它有两个输入，分别为机器人所在的位置坐标 loc，以及即将执行的动作 act\n",
    "def is_move_valid_sepcial(loc, act):\n",
    "    \"\"\"\n",
    "    Judge wether the robot can take action act at location loc.\n",
    "    \n",
    "    Keyword arguments:\n",
    "    loc -- tuple, robots current location\n",
    "    act -- string, robots meant action ex: 向上走 u、向下走 d、向左走 l、向右走 r\n",
    "    \"\"\"\n",
    "\n",
    "    # 读取机器人所在位置的坐标\n",
    "    start_row_idx = loc[0] # 机器人所在行的下标\n",
    "    start_col_idx = loc[1] # 机器人所在列的下标\n",
    "    \n",
    "    if act == 'u': # 向上走表示新位置与原位置相比行数减1，那么回传新位置是否合法        \n",
    "        return is_new_location_valid(env_data, start_row_idx - 1, start_col_idx)\n",
    "    if act == 'd': # 向下走表示新位置与原位置相比行数加1，那么回传新位置是否合法        \n",
    "        return is_new_location_valid(env_data, start_row_idx + 1, start_col_idx)\n",
    "    if act == 'l': # 向左走表示新位置与原位置相比列数减1，那么回传新位置是否合法        \n",
    "        return is_new_location_valid(env_data, start_row_idx, start_col_idx - 1)\n",
    "    if act == 'r': # 向右走表示新位置与原位置相比列数加1，那么回传新位置是否合法        \n",
    "        return is_new_location_valid(env_data, start_row_idx, start_col_idx + 1)\n",
    "    \n",
    "def get_env_value(env_data, row_idx, col_idx):\n",
    "    \"\"\"\n",
    "    通过遍历环境数据(env_data)以获取某行某列的值\n",
    "    \n",
    "    参数:\n",
    "    env_data -- list, 代表虚拟环境数据\n",
    "    row_idx -- int, 代表虚拟环境中行的下标索引值\n",
    "    col_idx -- int, 代表虚拟环境中列的下标索引值\n",
    "    回传:  \n",
    "    0 -- int, 普通格子（可通行）\n",
    "    1 -- int, 机器人的起点（可通行）\n",
    "    2 -- int, 障碍物（不可通行）\n",
    "    3 -- int, 宝藏箱（目标点）\n",
    "    -1 -- int, 超出索引边界(不合法的位置)\n",
    "    \"\"\"\n",
    "    row_num = 0 # 初始化行的下标值\n",
    "    for line in env_data:\n",
    "        col_num = 0 # 初始化列的下标值\n",
    "        for value in line:\n",
    "            if row_num == row_idx and col_num == col_idx: # 若与目标索引值匹配，则回传该值\n",
    "                return value\n",
    "            col_num += 1\n",
    "        row_num += 1\n",
    "    return -1 # 如果没有找到与目标索引值相匹配的元素则返回-1\n",
    "\n",
    "def is_new_location_valid(env_data, new_row_value, new_col_value):\n",
    "    \"\"\"\n",
    "    回传若要移动到指定的新位置是否合法\n",
    "    \n",
    "    参数:\n",
    "    env_data -- list, 代表虚拟环境数据\n",
    "    new_row_value -- int, 新位置的行下标索引\n",
    "    new_col_value -- int, 新位置的列下标索引\n",
    "    回传:\n",
    "    True -- bool, 可移动到新位置\n",
    "    False -- bool, 不可移动到新位置\n",
    "    \"\"\"\n",
    "    \n",
    "    # 取出新位置的值以便判断新位置是否为合法位置\n",
    "    new_loc_value = get_env_value(env_data, new_row_value, new_col_value)\n",
    "    # 1.查看新位置是否已经超出边界？(函数回传-1)如果超出，直接返回False    \n",
    "    if new_loc_value == -1:\n",
    "        return False\n",
    "    # 2.如果新位置没有超出边界，则查看新位置所在的值是否有障碍物(函数回传2)，如果是，则返回False\n",
    "    elif new_loc_value == 2:\n",
    "        return False\n",
    "    # 3.如果新位置没有超出边界也不是障碍物，表示机器人可前往的合法位置，则返回True\n",
    "    else:\n",
    "        return True\n",
    "\n",
    "print('机器人在当前位置{}能否向上走：{}'.format(robot_current_loc,is_move_valid_sepcial(robot_current_loc, 'u')))\n",
    "print('机器人在当前位置{}能否向下走：{}'.format(robot_current_loc,is_move_valid_sepcial(robot_current_loc, 'd')))\n",
    "print('机器人在当前位置{}能否向左走：{}'.format(robot_current_loc,is_move_valid_sepcial(robot_current_loc, 'l')))\n",
    "print('机器人在当前位置{}能否向右走：{}'.format(robot_current_loc,is_move_valid_sepcial(robot_current_loc, 'r')))"
   ]
  },
  {
   "cell_type": "markdown",
   "metadata": {},
   "source": [
    "---\n",
    "\n",
    "**任务5：**在下方代码中，重新实现一个名为 `is_move_valid` 的函数，它有三个输入，分别为模拟环境的数据 `env_data`、机器人所在的位置坐标 `loc`、以及即将执行的动作 `act`。它的返回值与此前一样，是一个布尔值，表明小车在给定的虚拟环境中的 `loc` 位置下，是否可以执行动作 `act`。"
   ]
  },
  {
   "cell_type": "code",
   "execution_count": 6,
   "metadata": {},
   "outputs": [
    {
     "name": "stdout",
     "output_type": "stream",
     "text": [
      "机器人在当前位置(1, 0)能否向上走：True\n",
      "机器人在当前位置(1, 0)能否向下走：False\n",
      "机器人在当前位置(1, 0)能否向左走：False\n",
      "机器人在当前位置(1, 0)能否向右走：False\n"
     ]
    }
   ],
   "source": [
    "# TODO 9\n",
    "# 实现一个名为 is_move_valid 的函数，它有三个输入，分别为模拟环境的数据 env_data、机器人所在的位置坐标 loc、以及即将执行的动作 act\n",
    "def is_move_valid(env_data, loc, act):\n",
    "    \"\"\"\n",
    "    Judge wether the robot can take action act at location loc.\n",
    "    \n",
    "    Keyword arguments:\n",
    "    env -- list, the environment data\n",
    "    loc -- tuple, robots current location\n",
    "    act -- string, robots meant action\n",
    "    \"\"\"\n",
    "    \n",
    "    # 读取机器人所在位置的坐标\n",
    "    start_row_idx = loc[0] # 机器人所在行的下标\n",
    "    start_col_idx = loc[1] # 机器人所在列的下标\n",
    "    \n",
    "    if act == 'u': # 向上走表示新位置与原位置相比行数减1，那么回传新位置是否合法        \n",
    "        return is_new_location_valid(env_data, start_row_idx - 1, start_col_idx)\n",
    "    if act == 'd': # 向下走表示新位置与原位置相比行数加1，那么回传新位置是否合法        \n",
    "        return is_new_location_valid(env_data, start_row_idx + 1, start_col_idx)\n",
    "    if act == 'l': # 向左走表示新位置与原位置相比列数减1，那么回传新位置是否合法        \n",
    "        return is_new_location_valid(env_data, start_row_idx, start_col_idx - 1)\n",
    "    if act == 'r': # 向右走表示新位置与原位置相比列数加1，那么回传新位置是否合法        \n",
    "        return is_new_location_valid(env_data, start_row_idx, start_col_idx + 1)\n",
    "\n",
    "print('机器人在当前位置{}能否向上走：{}'.format(robot_current_loc,is_move_valid(env_data, robot_current_loc, 'u')))\n",
    "print('机器人在当前位置{}能否向下走：{}'.format(robot_current_loc,is_move_valid(env_data, robot_current_loc, 'd')))\n",
    "print('机器人在当前位置{}能否向左走：{}'.format(robot_current_loc,is_move_valid(env_data, robot_current_loc, 'l')))\n",
    "print('机器人在当前位置{}能否向右走：{}'.format(robot_current_loc,is_move_valid(env_data, robot_current_loc, 'r')))"
   ]
  },
  {
   "cell_type": "markdown",
   "metadata": {},
   "source": [
    "---\n",
    "\n",
    "**任务6：**请回答：**在任务5及任务6中的实现的两个函数中，`env_data` 这个变量有什么不同？**\n",
    "\n",
    "提示：_可以尝试从变量作用域的角度回答该问题。_\n",
    "\n"
   ]
  },
  {
   "cell_type": "markdown",
   "metadata": {},
   "source": [
    "**回答：** \n",
    "is_move_valid_sepcial函数中所使用的env_data这个变量是来自函数外部所产生的(即env_data在is_move_valid_sepcial函数中为全局变量),并不像is_move_valid函数中的env_data是当作函数的参数传进来(即env_data在is_move_valid函数中为局部变量),其主要差别是is_move_valid函数可接受env_data当作函数的参数，因此更加灵活，可以传入多组不同的虚拟环境数据。"
   ]
  },
  {
   "cell_type": "markdown",
   "metadata": {},
   "source": [
    "---\n",
    "\n",
    "## 2.2 机器人可行动作\n",
    "\n",
    "---\n",
    "\n",
    "**任务7：**编写一个名为 `valid_actions` 的函数。它有两个输入，分别为虚拟环境的数据 `env_data`，以及机器人所在的位置 `loc`，输出是一个列表，表明机器人在这个位置所有的可行动作。\n",
    "\n",
    "提示：*可以尝试调用上方定义的`is_move_valid`函数。*\n"
   ]
  },
  {
   "cell_type": "code",
   "execution_count": 7,
   "metadata": {},
   "outputs": [
    {
     "name": "stdout",
     "output_type": "stream",
     "text": [
      "机器人在当前位置 (1, 0) 可执行的动作列表: ['u']\n"
     ]
    }
   ],
   "source": [
    "# TODO 10\n",
    "# 编写一个名为 valid_actions 的函数。它有两个输入，分别为虚拟环境的数据 env_data，以及机器人所在的位置 loc\n",
    "def valid_actions(env_data, loc):\n",
    "    \"\"\"\n",
    "    列出机器人在某个位置的所有可执行动作\n",
    "    \n",
    "    参数：\n",
    "    env_data -- list, 虚拟环境的数据\n",
    "    loc -- tuple, 机器人所在的位置\n",
    "    回传：\n",
    "    list -- 表明机器人在这个位置所有的可行动作 ex: ['u','d','l','r']\n",
    "    \"\"\"\n",
    "    \n",
    "    # 初始化回传用的结果列表\n",
    "    results = list()\n",
    "    # 定义所有可执行的动作列表\n",
    "    actions = ['u','d','l','r']\n",
    "    # 逐一检查机器人所在的位置能执行哪些动作\n",
    "    for action in actions:\n",
    "        if is_move_valid(env_data, loc, action):\n",
    "            results.append(action)\n",
    "    # 返回结果\n",
    "    return results\n",
    "\n",
    "print(\"机器人在当前位置 {} 可执行的动作列表: {}\".format(robot_current_loc,valid_actions(env_data, robot_current_loc)))"
   ]
  },
  {
   "cell_type": "markdown",
   "metadata": {},
   "source": [
    "---\n",
    "\n",
    "## 2.3 移动机器人\n",
    "\n",
    "当机器人收到一个动作的时候，你机器人的位置应发生相应的变化。\n",
    "\n",
    "**任务8：**编写一个名为 `move_robot` 的函数，它有两个输入，分别为机器人当前所在的位置 `loc` 和即将执行的动作 `act`。接着会返回机器人执行动作之后的新位置 `new_loc`。"
   ]
  },
  {
   "cell_type": "code",
   "execution_count": 8,
   "metadata": {},
   "outputs": [
    {
     "name": "stdout",
     "output_type": "stream",
     "text": [
      "机器人在当前位置(1, 0)向上走之后的新位置：(0, 0)\n",
      "机器人在当前位置(1, 0)向下走之后的新位置：(1, 0)\n",
      "机器人在当前位置(1, 0)向左走之后的新位置：(1, 0)\n",
      "机器人在当前位置(1, 0)向右走之后的新位置：(1, 0)\n",
      "备注：新位置与原位置坐标不变表示遭遇到障碍物或抵达边界\n"
     ]
    }
   ],
   "source": [
    "# TODO 11\n",
    "# 编写一个名为 move_robot 的函数，它有两个输入，分别为机器人当前所在的位置 loc 和即将执行的动作 act\n",
    "def move_robot(loc, act):\n",
    "    \"\"\"\n",
    "    返回机器人执行动作之后的新位置\n",
    "    \n",
    "    参数：\n",
    "    loc -- tuple, 机器人当前所在的位置\n",
    "    act -- str, 机器人即将执行的动作\n",
    "    回传：\n",
    "    new_loc -- tuple, 机器人执行动作之后的新位置\n",
    "    \"\"\"\n",
    "    \n",
    "    # 列出机器人在当前位置的所有可执行操作的列表\n",
    "    enable_actions = valid_actions(env_data, loc)\n",
    "    \n",
    "    # 如果所要求的动作在可执行操作的列表里，则计算新位置的坐标，否则回传原始坐标\n",
    "    if act in enable_actions:\n",
    "        new_loc = calculate_new_loc(loc, act)\n",
    "        return new_loc\n",
    "    else:\n",
    "        return loc\n",
    "    \n",
    "def calculate_new_loc(loc, act):\n",
    "    \"\"\"\n",
    "    计算并返回机器人执行动作之后的新位置\n",
    "    \n",
    "    参数：\n",
    "    loc -- tuple, 机器人当前所在的位置\n",
    "    act -- str, 机器人即将执行的动作\n",
    "    回传：\n",
    "    new_loc -- tuple, 机器人执行动作之后的新位置    \n",
    "    \"\"\"\n",
    "    # 读取机器人所在位置的坐标\n",
    "    start_row_idx = loc[0] # 机器人所在行的下标\n",
    "    start_col_idx = loc[1] # 机器人所在列的下标\n",
    "    \n",
    "    if act == 'u': # 向上走表示新位置与原位置相比行数减1        \n",
    "        return (start_row_idx - 1, start_col_idx)\n",
    "    if act == 'd': # 向下走表示新位置与原位置相比行数加1        \n",
    "        return (start_row_idx + 1, start_col_idx)\n",
    "    if act == 'l': # 向左走表示新位置与原位置相比列数减1        \n",
    "        return (start_row_idx, start_col_idx - 1)\n",
    "    if act == 'r': # 向右走表示新位置与原位置相比列数加1        \n",
    "        return (start_row_idx, start_col_idx + 1)\n",
    "\n",
    "print('机器人在当前位置{}向上走之后的新位置：{}'.format(robot_current_loc,move_robot(robot_current_loc, 'u')))\n",
    "print('机器人在当前位置{}向下走之后的新位置：{}'.format(robot_current_loc,move_robot(robot_current_loc, 'd')))\n",
    "print('机器人在当前位置{}向左走之后的新位置：{}'.format(robot_current_loc,move_robot(robot_current_loc, 'l')))\n",
    "print('机器人在当前位置{}向右走之后的新位置：{}'.format(robot_current_loc,move_robot(robot_current_loc, 'r')))\n",
    "print('备注：新位置与原位置坐标不变表示遭遇到障碍物或抵达边界')"
   ]
  },
  {
   "cell_type": "markdown",
   "metadata": {},
   "source": [
    "---\n",
    "\n",
    "## 2.4 随机移动机器人\n",
    "\n",
    "接着，我们尝试在虚拟环境中随机移动机器人，看看会有什么效果。\n",
    "\n",
    "**任务9：**编写一个名为 `random_choose_actions` 的函数，它有两个输入，分别为虚拟环境的数据 `env_data`，以及机器人所在的位置 `loc`。机器人会执行一个300次的循环，每次循环，他会执行以下任务：\n",
    "\n",
    "1. 利用上方定义的 `valid_actions` 函数，找出当前位置下，机器人可行的动作；\n",
    "2. 利用 `random` 库中的 `choice` 函数，从机器人可行的动作中，随机挑选出一个动作；\n",
    "3. 接着根据这个动作，利用上方定义的 `move_robot` 函数，来移动机器人，并更新机器人的位置；\n",
    "4. 当机器人走到终点时，输出“在第n个回合找到宝藏！”。\n",
    "\n",
    "提示：如果机器人无法在300个回合内找到宝藏的话，试试看增大这个数字，也许会有不错的效果 :P"
   ]
  },
  {
   "cell_type": "code",
   "execution_count": 9,
   "metadata": {},
   "outputs": [],
   "source": [
    "# TODO 12\n",
    "# 编写一个名为 random_choose_actions 的函数，它有两个输入，分别为虚拟环境的数据 env_data，以及机器人所在的位置 loc\n",
    "def random_choose_actions(env_data, loc):\n",
    "    \"\"\"\n",
    "    随机移动机器人\n",
    "    \n",
    "    参数：\n",
    "    env_data -- list, 虚拟环境的数据\n",
    "    loc -- tuple, 机器人所在的位置\n",
    "    回传：\n",
    "    True -- bool, 表示正常运行，执行完毕后，会更新机器人的位置\n",
    "    False -- bool, 表示遇到异常情况 --或者-- 表示已经找到宝藏，可结束运行\n",
    "    \"\"\"\n",
    "    \n",
    "    # 1. 利用上方定义的 valid_actions 函数，找出当前位置下，机器人可行的动作；\n",
    "    enable_actions = valid_actions(env_data, loc)\n",
    "\n",
    "    # 2. 利用 random 库中的 choice 函数，从机器人可行的动作中，随机挑选出一个动作；\n",
    "    try:\n",
    "        action = random.choice(enable_actions)\n",
    "    # 如果出错则直接返回False\n",
    "    except:\n",
    "        print('随机挑选出机器人动作时发生错误！')\n",
    "        return False\n",
    "    \n",
    "    # 3. 接着根据这个动作，利用上方定义的 move_robot 函数，来移动机器人，并更新机器人的位置；\n",
    "    \n",
    "    # 全局变量声明(在此声明后才能加以修改)\n",
    "    global robot_loc\n",
    "    global round_num\n",
    "    \n",
    "    # 移动机器人，并更新机器人的位置\n",
    "    robot_loc = move_robot(loc, action)\n",
    "    # 执行移动后，将回合计数器加1\n",
    "    round_num += 1\n",
    "    \n",
    "    # 4. 当机器人走到终点时，输出相应的信息\n",
    "    if destination_loc == robot_loc:\n",
    "        print('机器人在{}出发，经过{}个回合后在{}找到宝藏！寻宝结束！'.format(ori_robot_loc,round_num,destination_loc))\n",
    "        return False\n",
    "    \n",
    "    return True\n",
    "    "
   ]
  },
  {
   "cell_type": "code",
   "execution_count": 10,
   "metadata": {},
   "outputs": [
    {
     "name": "stdout",
     "output_type": "stream",
     "text": [
      "机器人在(1, 0)出发，经过143个回合后在(0, 6)找到宝藏！寻宝结束！\n"
     ]
    }
   ],
   "source": [
    "# 运行\n",
    "round_num = 0 # 记录经历多少回合\n",
    "ori_robot_loc = robot_current_loc # 记录机器人的原始出发位置\n",
    "robot_loc = ori_robot_loc # 用于在for回圈中记录的机器人位置\n",
    "for i in range(500):\n",
    "    # 正常运行，执行完毕后，会更新机器人的位置\n",
    "    if random_choose_actions(env_data, robot_loc):\n",
    "        continue\n",
    "    # 遇到异常情况 --或者-- 已经找到宝藏，可结束运行\n",
    "    else:\n",
    "        break"
   ]
  },
  {
   "cell_type": "markdown",
   "metadata": {},
   "source": [
    "\n",
    "---\n",
    "\n",
    "---\n",
    "\n",
    "## （可选）第三节 控制机器人走到终点\n",
    "\n",
    "## 3.1 控制机器人走到终点\n",
    "\n",
    "在这里，你将综合上述的知识，编码控制机器人走到终点。这个任务对刚刚入门的你来说可能有些挑战，所以它是一个选做题。\n",
    "\n",
    "**任务10**：尝试实现一个算法，能够对给定的模拟环境，输出机器人的行动策略，使之能够走到终点。\n",
    "\n",
    "提示：_你可以尝试参考 [A星算法](https://zh.wikipedia.org/wiki/A*%E6%90%9C%E5%AF%BB%E7%AE%97%E6%B3%95) 。_\n",
    "以及以下参考资料：\n",
    "* https://baike.baidu.com/item/A%2A算法\n",
    "\n",
    "* https://blog.csdn.net/hitwhylz/article/details/23089415"
   ]
  },
  {
   "cell_type": "code",
   "execution_count": 11,
   "metadata": {},
   "outputs": [],
   "source": [
    "##TODO 13 实现你的算法"
   ]
  },
  {
   "cell_type": "markdown",
   "metadata": {},
   "source": [
    "> 注意: 当你写完了所有的代码，并且回答了所有的问题。你就可以把你的 iPython Notebook 导出成 HTML 文件。你可以在菜单栏，这样导出**File -> Download as -> HTML (.html)**把这个 HTML 和这个 iPython notebook 一起做为你的作业提交。"
   ]
  }
 ],
 "metadata": {
  "kernelspec": {
   "display_name": "Python 3",
   "language": "python",
   "name": "python3"
  },
  "language_info": {
   "codemirror_mode": {
    "name": "ipython",
    "version": 3
   },
   "file_extension": ".py",
   "mimetype": "text/x-python",
   "name": "python",
   "nbconvert_exporter": "python",
   "pygments_lexer": "ipython3",
   "version": "3.6.5"
  }
 },
 "nbformat": 4,
 "nbformat_minor": 2
}
